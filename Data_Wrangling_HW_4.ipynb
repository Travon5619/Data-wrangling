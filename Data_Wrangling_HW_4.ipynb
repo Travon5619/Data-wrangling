{
  "cells": [
    {
      "cell_type": "markdown",
      "metadata": {
        "id": "view-in-github",
        "colab_type": "text"
      },
      "source": [
        "<a href=\"https://colab.research.google.com/github/Travon5619/Data-wrangling/blob/main/Data_Wrangling_HW_4.ipynb\" target=\"_parent\"><img src=\"https://colab.research.google.com/assets/colab-badge.svg\" alt=\"Open In Colab\"/></a>"
      ]
    },
    {
      "cell_type": "code",
      "execution_count": null,
      "metadata": {
        "id": "n9p1gjIu0eOD"
      },
      "outputs": [],
      "source": [
        "import sqlite3"
      ]
    },
    {
      "cell_type": "code",
      "execution_count": null,
      "metadata": {
        "id": "FqEAmxIe0ohf"
      },
      "outputs": [],
      "source": [
        "def create_todo_table(conn):\n",
        "  cursor = conn.cursor()\n",
        "  cursor.execute('''CREATE TABLE IF NOT EXISTS todos (\n",
        "                  id INTEGER PRIMARY KEY,\n",
        "                  task TEXT NOT NULL,\n",
        "                  completed INTEGER DEFAULT 0\n",
        "                  )''')\n",
        "  conn.commit()"
      ]
    },
    {
      "cell_type": "code",
      "execution_count": null,
      "metadata": {
        "id": "6vbFrFmR1i1Z"
      },
      "outputs": [],
      "source": [
        "def add_task(conn, task):\n",
        "    cursor = conn.cursor()\n",
        "    cursor.execute('INSERT INTO todos (task) VALUES (?)', (task,))\n",
        "    conn.commit\n",
        "\n",
        "def update_task_status(conn, task_id, completed):\n",
        "    cursor = conn.cursor()\n",
        "    cursor.execute('UPDATE todos SET completed = ? WHERE id = ?', (completed, task_id))\n",
        "    conn.commit()\n",
        "\n",
        "def delete_task(conn, task_id):\n",
        "    cursor = conn.cursor()\n",
        "    cursor.execute('DELETE FROM todos WHERE id = ?', (task_id))\n",
        "    conn.commit()"
      ]
    },
    {
      "cell_type": "code",
      "execution_count": null,
      "metadata": {
        "id": "bPyVjrbn3JZv"
      },
      "outputs": [],
      "source": [
        "def get_tasks(conn):\n",
        "  cursor = conn.cursor()\n",
        "  cursor.execute('SELECT * FROM todos')\n",
        "  tasks = cursor.fetchall()\n",
        "  return tasks"
      ]
    },
    {
      "cell_type": "code",
      "execution_count": null,
      "metadata": {
        "id": "UAvjzo0PCy53"
      },
      "outputs": [],
      "source": [
        "def main():\n",
        "\n",
        "    conn = sqlite3.connect('todo.db')\n",
        "\n",
        "    create_todo_table(conn)\n",
        "\n",
        "    while True:\n",
        "      print(\"\\nTODO LIST\")\n",
        "      print(\"1. Add Task\")\n",
        "      print(\"2. View Tasks\")\n",
        "      print(\"3. Update Task Status\")\n",
        "      print(\"4. Delete Task\")\n",
        "      print(\"5. Exit\")\n",
        "\n",
        "      choice = input(\"Enter your choice: \")\n",
        "\n",
        "      if choice == '1':\n",
        "          task = input(\"Enter task: \")\n",
        "          add_task(conn, task)\n",
        "          print(\"Task added successfully!\")\n",
        "\n",
        "      elif choice == '2':\n",
        "          tasks = get_tasks(conn)\n",
        "          if not tasks:\n",
        "              print(\"No tasks found.\")\n",
        "          else:\n",
        "              for task in tasks:\n",
        "                  print(f\"{task[0]}. {task[1]} - {'Completed' if task[2] else 'Incomplete'}\")\n",
        "\n",
        "      elif choice == '3':\n",
        "          task_id = int(input(\"Enter task ID: \"))\n",
        "          completed = int(input(\"Enter completion status (1 for completed, 0 for incomplete): \"))\n",
        "          update_task_status(conn, task_id, completed)\n",
        "          print(\"Task status updated successfully!\")\n",
        "\n",
        "      elif choice == '4':\n",
        "          task_id = int(input(\"Enter task ID: \"))\n",
        "          delete_task(conn, task_id)\n",
        "          print(\"Task deleted successfully!\")\n",
        "\n",
        "      elif choice == '5':\n",
        "          print(\"Exiting...\")\n",
        "          break\n",
        "\n",
        "      else:\n",
        "          print(\"Invalid choice. Please try again.\")\n",
        "\n",
        "    conn.close()"
      ]
    },
    {
      "cell_type": "code",
      "source": [
        "if __name__ == \"__main__\":\n",
        "    main()"
      ],
      "metadata": {
        "colab": {
          "base_uri": "https://localhost:8080/"
        },
        "id": "wkFQWbAdfGtl",
        "outputId": "5ccfba95-01db-4a5b-d712-c591c87d5f6a"
      },
      "execution_count": null,
      "outputs": [
        {
          "output_type": "stream",
          "name": "stdout",
          "text": [
            "\n",
            "TODO LIST\n",
            "1. Add Task\n",
            "2. View Tasks\n",
            "3. Update Task Status\n",
            "4. Delete Task\n",
            "5. Exit\n",
            "Enter your choice: 1\n",
            "Enter task: Grocery Shopping\n",
            "Task added successfully!\n",
            "\n",
            "TODO LIST\n",
            "1. Add Task\n",
            "2. View Tasks\n",
            "3. Update Task Status\n",
            "4. Delete Task\n",
            "5. Exit\n",
            "Enter your choice: 2\n",
            "1. Grocery Shopping - Completed\n",
            "2. Grocery Shopping - Incomplete\n",
            "3. Grocery Shopping - Incomplete\n",
            "4. Grocery Shopping - Incomplete\n",
            "\n",
            "TODO LIST\n",
            "1. Add Task\n",
            "2. View Tasks\n",
            "3. Update Task Status\n",
            "4. Delete Task\n",
            "5. Exit\n",
            "Enter your choice: 3\n",
            "Enter task ID: 1\n",
            "Enter completion status (1 for completed, 0 for incomplete): 1\n",
            "Task status updated successfully!\n",
            "\n",
            "TODO LIST\n",
            "1. Add Task\n",
            "2. View Tasks\n",
            "3. Update Task Status\n",
            "4. Delete Task\n",
            "5. Exit\n",
            "Enter your choice: 5\n",
            "Exiting...\n"
          ]
        }
      ]
    }
  ],
  "metadata": {
    "colab": {
      "provenance": [],
      "authorship_tag": "ABX9TyN9l3jGPbMGWi+hWCgjAps2",
      "include_colab_link": true
    },
    "kernelspec": {
      "display_name": "Python 3",
      "name": "python3"
    },
    "language_info": {
      "name": "python"
    }
  },
  "nbformat": 4,
  "nbformat_minor": 0
}